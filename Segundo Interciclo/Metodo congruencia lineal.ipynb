{
 "cells": [
  {
   "cell_type": "markdown",
   "metadata": {},
   "source": [
    "# Universidad Politecnica Salesiana\n",
    "### Nombre: Jessica Ñauta.\n",
    "### Asigantura: Simulación."
   ]
  },
  {
   "cell_type": "markdown",
   "metadata": {},
   "source": [
    "## Método congruencia lineal"
   ]
  },
  {
   "cell_type": "code",
   "execution_count": 2,
   "metadata": {},
   "outputs": [
    {
     "name": "stdout",
     "output_type": "stream",
     "text": [
      "Introduce Xo: 6\n",
      "Introduce a: 9481\n",
      "Introduce b: 3491\n",
      "Introduce m: 12\n",
      "\n",
      "Metodo Congruencias Lineales\n",
      "  n    Xo       Un    Xn+1\n",
      "  0     6    0.5     5\n",
      "  1     5    0.4167     4\n",
      "  2     4    0.3333     3\n",
      "  3     3    0.25     2\n",
      "  4     2    0.1667     1\n",
      "  5     1    0.0833     0\n",
      "  6     0    0.0     11\n",
      "  7     11    0.9167     10\n",
      "  8     10    0.8333     9\n",
      "  9     9    0.75     8\n",
      "  10     8    0.6667     7\n",
      "  11     7    0.5833     6\n"
     ]
    }
   ],
   "source": [
    "def m_congruencias_lineales(x, a, b, m):\n",
    " \n",
    "    periodo = 0\n",
    "    bandera = 0\n",
    "    cont = 0\n",
    "    xant = 0\n",
    "    print(\"\")\n",
    "    print(\"Metodo Congruencias Lineales\")\n",
    "    print(\"  n  \", \" Xo \", \"     Un \", \"  Xn+1\")\n",
    "    while(bandera != x):\n",
    "        if (periodo == 0):\n",
    "            bandera = x\n",
    "        xant=x\n",
    "        x = (a * x + b) % m\n",
    "        print(\" \", cont,\"   \", xant,\"  \", round(xant/m,4),\"   \", x)\n",
    "        periodo = periodo + 1\n",
    "        cont=cont+1\n",
    "\n",
    "def main():\n",
    "    x = int(input(\"Introduce Xo: \"))\n",
    "    a = int(input(\"Introduce a: \"))\n",
    "    b = int(input(\"Introduce b: \"))\n",
    "    m = int(input(\"Introduce m: \"))\n",
    "    m_congruencias_lineales(x,a,b,m)\n",
    "\n",
    "if __name__ == \"__main__\":\n",
    "    main()"
   ]
  }
 ],
 "metadata": {
  "kernelspec": {
   "display_name": "Python 3",
   "language": "python",
   "name": "python3"
  },
  "language_info": {
   "codemirror_mode": {
    "name": "ipython",
    "version": 3
   },
   "file_extension": ".py",
   "mimetype": "text/x-python",
   "name": "python",
   "nbconvert_exporter": "python",
   "pygments_lexer": "ipython3",
   "version": "3.8.5"
  }
 },
 "nbformat": 4,
 "nbformat_minor": 4
}
